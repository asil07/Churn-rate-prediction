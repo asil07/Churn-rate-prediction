{
  "nbformat": 4,
  "nbformat_minor": 0,
  "metadata": {
    "colab": {
      "name": "with_Neural_Network.ipynb",
      "provenance": [],
      "collapsed_sections": []
    },
    "kernelspec": {
      "name": "python3",
      "display_name": "Python 3"
    },
    "language_info": {
      "name": "python"
    }
  },
  "cells": [
    {
      "cell_type": "markdown",
      "source": [
        "## Assalomu Alaykum Varahmatulloh Vabarakatuh! \n",
        "\n",
        "Ushbu tasknni bajarishda Jupyter notebook ning google_coolabrotary IDLE dan foydalandim\n",
        "\n",
        "###Quyidagi toollarni ishlatdim\n",
        "\n",
        "*   panda, numpy\n",
        "\n",
        "###Malumotlarni tozalash va uni trainingga tayyorlash uchun\n",
        "\n",
        "\n",
        "*   sklearn, label_encoder, standard scaler, numpy\n",
        "\n",
        "\n",
        "###Model training qilich uchun \n",
        "\n",
        "*   Keras\n",
        "### Visualisation uchun\n",
        "\n",
        "\n",
        "*   Seaborn\n",
        "*   Matplotlib\n",
        "\n",
        "###Training yakunida model **93% accuracy** ga erishdi"
      ],
      "metadata": {
        "id": "oi-jq4JD7X7I"
      }
    },
    {
      "cell_type": "code",
      "execution_count": 1,
      "metadata": {
        "id": "0X4WR2PbpDAr"
      },
      "outputs": [],
      "source": [
        "import pandas as pd\n",
        "import matplotlib.pyplot as plt\n",
        "import seaborn as sns\n",
        "import numpy as np\n",
        "\n",
        "\n",
        "from sklearn.preprocessing import LabelEncoder\n",
        "from sklearn.preprocessing import StandardScaler\n",
        "from sklearn.metrics import classification_report\n",
        "from sklearn.model_selection import train_test_split"
      ]
    },
    {
      "cell_type": "markdown",
      "source": [
        "Faylni yuklash uchun"
      ],
      "metadata": {
        "id": "RvqHeUR172Ch"
      }
    },
    {
      "cell_type": "code",
      "source": [
        "from google.colab import files\n",
        "uploaded = files.upload()"
      ],
      "metadata": {
        "colab": {
          "resources": {
            "http://localhost:8080/nbextensions/google.colab/files.js": {
              "data": "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",
              "ok": true,
              "headers": [
                [
                  "content-type",
                  "application/javascript"
                ]
              ],
              "status": 200,
              "status_text": ""
            }
          },
          "base_uri": "https://localhost:8080/",
          "height": 73
        },
        "id": "7CUmLW5WpbSo",
        "outputId": "7e60a18c-c19e-4334-ff2a-62e4bb7e3b1f"
      },
      "execution_count": 3,
      "outputs": [
        {
          "output_type": "display_data",
          "data": {
            "text/html": [
              "\n",
              "     <input type=\"file\" id=\"files-f16ae21a-d794-455f-93a4-23d615624297\" name=\"files[]\" multiple disabled\n",
              "        style=\"border:none\" />\n",
              "     <output id=\"result-f16ae21a-d794-455f-93a4-23d615624297\">\n",
              "      Upload widget is only available when the cell has been executed in the\n",
              "      current browser session. Please rerun this cell to enable.\n",
              "      </output>\n",
              "      <script src=\"/nbextensions/google.colab/files.js\"></script> "
            ],
            "text/plain": [
              "<IPython.core.display.HTML object>"
            ]
          },
          "metadata": {}
        },
        {
          "output_type": "stream",
          "name": "stdout",
          "text": [
            "Saving churn.csv to churn.csv\n"
          ]
        }
      ]
    },
    {
      "cell_type": "code",
      "source": [
        "df = pd.read_csv(\"churn_copy.csv\")\n",
        "df.head()"
      ],
      "metadata": {
        "colab": {
          "base_uri": "https://localhost:8080/",
          "height": 374
        },
        "id": "iriuMBKKpb7l",
        "outputId": "444eff02-c7dc-4106-86fa-36c4762bed8c"
      },
      "execution_count": 4,
      "outputs": [
        {
          "output_type": "execute_result",
          "data": {
            "text/html": [
              "\n",
              "  <div id=\"df-2ecf62f3-2200-400e-83dd-8ed4f6e3ea1c\">\n",
              "    <div class=\"colab-df-container\">\n",
              "      <div>\n",
              "<style scoped>\n",
              "    .dataframe tbody tr th:only-of-type {\n",
              "        vertical-align: middle;\n",
              "    }\n",
              "\n",
              "    .dataframe tbody tr th {\n",
              "        vertical-align: top;\n",
              "    }\n",
              "\n",
              "    .dataframe thead th {\n",
              "        text-align: right;\n",
              "    }\n",
              "</style>\n",
              "<table border=\"1\" class=\"dataframe\">\n",
              "  <thead>\n",
              "    <tr style=\"text-align: right;\">\n",
              "      <th></th>\n",
              "      <th>State</th>\n",
              "      <th>Account Length</th>\n",
              "      <th>Area Code</th>\n",
              "      <th>Phone</th>\n",
              "      <th>Int'l Plan</th>\n",
              "      <th>VMail Plan</th>\n",
              "      <th>VMail Message</th>\n",
              "      <th>Day Mins</th>\n",
              "      <th>Day Calls</th>\n",
              "      <th>Day Charge</th>\n",
              "      <th>Eve Mins</th>\n",
              "      <th>Eve Calls</th>\n",
              "      <th>Eve Charge</th>\n",
              "      <th>Night Mins</th>\n",
              "      <th>Night Calls</th>\n",
              "      <th>Night Charge</th>\n",
              "      <th>Intl Mins</th>\n",
              "      <th>Intl Calls</th>\n",
              "      <th>Intl Charge</th>\n",
              "      <th>CustServ Calls</th>\n",
              "      <th>Churn?</th>\n",
              "    </tr>\n",
              "  </thead>\n",
              "  <tbody>\n",
              "    <tr>\n",
              "      <th>0</th>\n",
              "      <td>KS</td>\n",
              "      <td>128</td>\n",
              "      <td>415</td>\n",
              "      <td>382-4657</td>\n",
              "      <td>False</td>\n",
              "      <td>True</td>\n",
              "      <td>25</td>\n",
              "      <td>265.1</td>\n",
              "      <td>110</td>\n",
              "      <td>45.07</td>\n",
              "      <td>197.4</td>\n",
              "      <td>99</td>\n",
              "      <td>16.78</td>\n",
              "      <td>244.7</td>\n",
              "      <td>91</td>\n",
              "      <td>11.01</td>\n",
              "      <td>10.0</td>\n",
              "      <td>3</td>\n",
              "      <td>2.70</td>\n",
              "      <td>1</td>\n",
              "      <td>False</td>\n",
              "    </tr>\n",
              "    <tr>\n",
              "      <th>1</th>\n",
              "      <td>OH</td>\n",
              "      <td>107</td>\n",
              "      <td>415</td>\n",
              "      <td>371-7191</td>\n",
              "      <td>False</td>\n",
              "      <td>True</td>\n",
              "      <td>26</td>\n",
              "      <td>161.6</td>\n",
              "      <td>123</td>\n",
              "      <td>27.47</td>\n",
              "      <td>195.5</td>\n",
              "      <td>103</td>\n",
              "      <td>16.62</td>\n",
              "      <td>254.4</td>\n",
              "      <td>103</td>\n",
              "      <td>11.45</td>\n",
              "      <td>13.7</td>\n",
              "      <td>3</td>\n",
              "      <td>3.70</td>\n",
              "      <td>1</td>\n",
              "      <td>False</td>\n",
              "    </tr>\n",
              "    <tr>\n",
              "      <th>2</th>\n",
              "      <td>NJ</td>\n",
              "      <td>137</td>\n",
              "      <td>415</td>\n",
              "      <td>358-1921</td>\n",
              "      <td>False</td>\n",
              "      <td>False</td>\n",
              "      <td>0</td>\n",
              "      <td>243.4</td>\n",
              "      <td>114</td>\n",
              "      <td>41.38</td>\n",
              "      <td>121.2</td>\n",
              "      <td>110</td>\n",
              "      <td>10.30</td>\n",
              "      <td>162.6</td>\n",
              "      <td>104</td>\n",
              "      <td>7.32</td>\n",
              "      <td>12.2</td>\n",
              "      <td>5</td>\n",
              "      <td>3.29</td>\n",
              "      <td>0</td>\n",
              "      <td>False</td>\n",
              "    </tr>\n",
              "    <tr>\n",
              "      <th>3</th>\n",
              "      <td>OH</td>\n",
              "      <td>84</td>\n",
              "      <td>408</td>\n",
              "      <td>375-9999</td>\n",
              "      <td>True</td>\n",
              "      <td>False</td>\n",
              "      <td>0</td>\n",
              "      <td>299.4</td>\n",
              "      <td>71</td>\n",
              "      <td>50.90</td>\n",
              "      <td>61.9</td>\n",
              "      <td>88</td>\n",
              "      <td>5.26</td>\n",
              "      <td>196.9</td>\n",
              "      <td>89</td>\n",
              "      <td>8.86</td>\n",
              "      <td>6.6</td>\n",
              "      <td>7</td>\n",
              "      <td>1.78</td>\n",
              "      <td>2</td>\n",
              "      <td>False</td>\n",
              "    </tr>\n",
              "    <tr>\n",
              "      <th>4</th>\n",
              "      <td>OK</td>\n",
              "      <td>75</td>\n",
              "      <td>415</td>\n",
              "      <td>330-6626</td>\n",
              "      <td>True</td>\n",
              "      <td>False</td>\n",
              "      <td>0</td>\n",
              "      <td>166.7</td>\n",
              "      <td>113</td>\n",
              "      <td>28.34</td>\n",
              "      <td>148.3</td>\n",
              "      <td>122</td>\n",
              "      <td>12.61</td>\n",
              "      <td>186.9</td>\n",
              "      <td>121</td>\n",
              "      <td>8.41</td>\n",
              "      <td>10.1</td>\n",
              "      <td>3</td>\n",
              "      <td>2.73</td>\n",
              "      <td>3</td>\n",
              "      <td>False</td>\n",
              "    </tr>\n",
              "  </tbody>\n",
              "</table>\n",
              "</div>\n",
              "      <button class=\"colab-df-convert\" onclick=\"convertToInteractive('df-2ecf62f3-2200-400e-83dd-8ed4f6e3ea1c')\"\n",
              "              title=\"Convert this dataframe to an interactive table.\"\n",
              "              style=\"display:none;\">\n",
              "        \n",
              "  <svg xmlns=\"http://www.w3.org/2000/svg\" height=\"24px\"viewBox=\"0 0 24 24\"\n",
              "       width=\"24px\">\n",
              "    <path d=\"M0 0h24v24H0V0z\" fill=\"none\"/>\n",
              "    <path d=\"M18.56 5.44l.94 2.06.94-2.06 2.06-.94-2.06-.94-.94-2.06-.94 2.06-2.06.94zm-11 1L8.5 8.5l.94-2.06 2.06-.94-2.06-.94L8.5 2.5l-.94 2.06-2.06.94zm10 10l.94 2.06.94-2.06 2.06-.94-2.06-.94-.94-2.06-.94 2.06-2.06.94z\"/><path d=\"M17.41 7.96l-1.37-1.37c-.4-.4-.92-.59-1.43-.59-.52 0-1.04.2-1.43.59L10.3 9.45l-7.72 7.72c-.78.78-.78 2.05 0 2.83L4 21.41c.39.39.9.59 1.41.59.51 0 1.02-.2 1.41-.59l7.78-7.78 2.81-2.81c.8-.78.8-2.07 0-2.86zM5.41 20L4 18.59l7.72-7.72 1.47 1.35L5.41 20z\"/>\n",
              "  </svg>\n",
              "      </button>\n",
              "      \n",
              "  <style>\n",
              "    .colab-df-container {\n",
              "      display:flex;\n",
              "      flex-wrap:wrap;\n",
              "      gap: 12px;\n",
              "    }\n",
              "\n",
              "    .colab-df-convert {\n",
              "      background-color: #E8F0FE;\n",
              "      border: none;\n",
              "      border-radius: 50%;\n",
              "      cursor: pointer;\n",
              "      display: none;\n",
              "      fill: #1967D2;\n",
              "      height: 32px;\n",
              "      padding: 0 0 0 0;\n",
              "      width: 32px;\n",
              "    }\n",
              "\n",
              "    .colab-df-convert:hover {\n",
              "      background-color: #E2EBFA;\n",
              "      box-shadow: 0px 1px 2px rgba(60, 64, 67, 0.3), 0px 1px 3px 1px rgba(60, 64, 67, 0.15);\n",
              "      fill: #174EA6;\n",
              "    }\n",
              "\n",
              "    [theme=dark] .colab-df-convert {\n",
              "      background-color: #3B4455;\n",
              "      fill: #D2E3FC;\n",
              "    }\n",
              "\n",
              "    [theme=dark] .colab-df-convert:hover {\n",
              "      background-color: #434B5C;\n",
              "      box-shadow: 0px 1px 3px 1px rgba(0, 0, 0, 0.15);\n",
              "      filter: drop-shadow(0px 1px 2px rgba(0, 0, 0, 0.3));\n",
              "      fill: #FFFFFF;\n",
              "    }\n",
              "  </style>\n",
              "\n",
              "      <script>\n",
              "        const buttonEl =\n",
              "          document.querySelector('#df-2ecf62f3-2200-400e-83dd-8ed4f6e3ea1c button.colab-df-convert');\n",
              "        buttonEl.style.display =\n",
              "          google.colab.kernel.accessAllowed ? 'block' : 'none';\n",
              "\n",
              "        async function convertToInteractive(key) {\n",
              "          const element = document.querySelector('#df-2ecf62f3-2200-400e-83dd-8ed4f6e3ea1c');\n",
              "          const dataTable =\n",
              "            await google.colab.kernel.invokeFunction('convertToInteractive',\n",
              "                                                     [key], {});\n",
              "          if (!dataTable) return;\n",
              "\n",
              "          const docLinkHtml = 'Like what you see? Visit the ' +\n",
              "            '<a target=\"_blank\" href=https://colab.research.google.com/notebooks/data_table.ipynb>data table notebook</a>'\n",
              "            + ' to learn more about interactive tables.';\n",
              "          element.innerHTML = '';\n",
              "          dataTable['output_type'] = 'display_data';\n",
              "          await google.colab.output.renderOutput(dataTable, element);\n",
              "          const docLink = document.createElement('div');\n",
              "          docLink.innerHTML = docLinkHtml;\n",
              "          element.appendChild(docLink);\n",
              "        }\n",
              "      </script>\n",
              "    </div>\n",
              "  </div>\n",
              "  "
            ],
            "text/plain": [
              "  State  Account Length  Area Code  ... Intl Charge  CustServ Calls  Churn?\n",
              "0    KS             128        415  ...        2.70               1   False\n",
              "1    OH             107        415  ...        3.70               1   False\n",
              "2    NJ             137        415  ...        3.29               0   False\n",
              "3    OH              84        408  ...        1.78               2   False\n",
              "4    OK              75        415  ...        2.73               3   False\n",
              "\n",
              "[5 rows x 21 columns]"
            ]
          },
          "metadata": {},
          "execution_count": 4
        }
      ]
    },
    {
      "cell_type": "markdown",
      "source": [
        "### Bu yerda mijozlarning va ularning tark etish soni ko'rsatilgan"
      ],
      "metadata": {
        "id": "vdJlSY6woBGG"
      }
    },
    {
      "cell_type": "code",
      "source": [
        "sns.countplot(df[\"Churn?\"])"
      ],
      "metadata": {
        "colab": {
          "base_uri": "https://localhost:8080/",
          "height": 352
        },
        "id": "ih5pXJFP8u4B",
        "outputId": "a4004566-4563-40cb-fefd-d9b954308bfc"
      },
      "execution_count": 5,
      "outputs": [
        {
          "output_type": "stream",
          "name": "stderr",
          "text": [
            "/usr/local/lib/python3.7/dist-packages/seaborn/_decorators.py:43: FutureWarning: Pass the following variable as a keyword arg: x. From version 0.12, the only valid positional argument will be `data`, and passing other arguments without an explicit keyword will result in an error or misinterpretation.\n",
            "  FutureWarning\n"
          ]
        },
        {
          "output_type": "execute_result",
          "data": {
            "text/plain": [
              "<matplotlib.axes._subplots.AxesSubplot at 0x7fb2f88ade90>"
            ]
          },
          "metadata": {},
          "execution_count": 5
        },
        {
          "output_type": "display_data",
          "data": {
            "image/png": "[encoded data removed]",
            "text/plain": [
              "<Figure size 432x288 with 1 Axes>"
            ]
          },
          "metadata": {
            "needs_background": "light"
          }
        }
      ]
    },
    {
      "cell_type": "markdown",
      "source": [
        "### O'rtacha qiymatlar"
      ],
      "metadata": {
        "id": "l_nsV5ns8Pxv"
      }
    },
    {
      "cell_type": "code",
      "source": [
        "min_col = ['Day Mins','Eve Mins','Night Mins','Intl Mins']\n",
        "for col in min_col:\n",
        "  print(f\"Avarage of {col}: {df[col].mean()}\")\n",
        "\n",
        "# minimums\n",
        "for col in min_col[1:]:\n",
        "  print(f'Minimums of {col}: {df[col].min()}')"
      ],
      "metadata": {
        "colab": {
          "base_uri": "https://localhost:8080/"
        },
        "id": "p8B0SQvM3XER",
        "outputId": "a4dc1b0a-2eb6-403c-9116-a6442c32f93d"
      },
      "execution_count": 6,
      "outputs": [
        {
          "output_type": "stream",
          "name": "stdout",
          "text": [
            "Avarage of Day Mins: 179.77509750975116\n",
            "Avarage of Eve Mins: 200.98034803480346\n",
            "Avarage of Night Mins: 200.87203720372048\n",
            "Avarage of Intl Mins: 10.237293729372933\n",
            "Minimums of Eve Mins: 0.0\n",
            "Minimums of Night Mins: 23.2\n",
            "Minimums of Intl Mins: 0.0\n"
          ]
        }
      ]
    },
    {
      "cell_type": "code",
      "source": [
        "df.dtypes"
      ],
      "metadata": {
        "colab": {
          "base_uri": "https://localhost:8080/"
        },
        "id": "hnYp2fr6qJnQ",
        "outputId": "d93cbe35-6da4-4cd3-c544-e7faee70eedf"
      },
      "execution_count": 6,
      "outputs": [
        {
          "output_type": "execute_result",
          "data": {
            "text/plain": [
              "State              object\n",
              "Account Length      int64\n",
              "Area Code           int64\n",
              "Phone              object\n",
              "Int'l Plan           bool\n",
              "VMail Plan           bool\n",
              "VMail Message       int64\n",
              "Day Mins          float64\n",
              "Day Calls           int64\n",
              "Day Charge        float64\n",
              "Eve Mins          float64\n",
              "Eve Calls           int64\n",
              "Eve Charge        float64\n",
              "Night Mins        float64\n",
              "Night Calls         int64\n",
              "Night Charge      float64\n",
              "Intl Mins         float64\n",
              "Intl Calls          int64\n",
              "Intl Charge       float64\n",
              "CustServ Calls      int64\n",
              "Churn?               bool\n",
              "dtype: object"
            ]
          },
          "metadata": {},
          "execution_count": 6
        }
      ]
    },
    {
      "cell_type": "markdown",
      "source": [
        "### Object formatidagi qiymatlarni integer qiymatiga o'tkizib olamiz\n",
        "\n"
      ],
      "metadata": {
        "id": "nP_hPQt-9QFl"
      }
    },
    {
      "cell_type": "code",
      "source": [
        "for column in df.columns:\n",
        "  if df[column].dtype == np.number: \n",
        "    continue\n",
        "  else:\n",
        "    df[column] = LabelEncoder().fit_transform(df[column])\n",
        "df.dtypes"
      ],
      "metadata": {
        "colab": {
          "base_uri": "https://localhost:8080/"
        },
        "id": "a4Yelycupb-M",
        "outputId": "3dc29510-1646-406c-9e1e-8c3302bc00f2"
      },
      "execution_count": 7,
      "outputs": [
        {
          "output_type": "stream",
          "name": "stderr",
          "text": [
            "/usr/local/lib/python3.7/dist-packages/ipykernel_launcher.py:2: DeprecationWarning: Converting `np.inexact` or `np.floating` to a dtype is deprecated. The current result is `float64` which is not strictly correct.\n",
            "  \n"
          ]
        },
        {
          "output_type": "execute_result",
          "data": {
            "text/plain": [
              "State               int64\n",
              "Account Length      int64\n",
              "Area Code           int64\n",
              "Phone               int64\n",
              "Int'l Plan          int64\n",
              "VMail Plan          int64\n",
              "VMail Message       int64\n",
              "Day Mins          float64\n",
              "Day Calls           int64\n",
              "Day Charge        float64\n",
              "Eve Mins          float64\n",
              "Eve Calls           int64\n",
              "Eve Charge        float64\n",
              "Night Mins        float64\n",
              "Night Calls         int64\n",
              "Night Charge      float64\n",
              "Intl Mins         float64\n",
              "Intl Calls          int64\n",
              "Intl Charge       float64\n",
              "CustServ Calls      int64\n",
              "Churn?              int64\n",
              "dtype: object"
            ]
          },
          "metadata": {},
          "execution_count": 7
        }
      ]
    },
    {
      "cell_type": "code",
      "source": [
        "df.shape"
      ],
      "metadata": {
        "colab": {
          "base_uri": "https://localhost:8080/"
        },
        "id": "ZELC99-ppcAS",
        "outputId": "93125376-0bb5-4f54-fb45-6c8e3c8718fc"
      },
      "execution_count": 8,
      "outputs": [
        {
          "output_type": "execute_result",
          "data": {
            "text/plain": [
              "(3333, 21)"
            ]
          },
          "metadata": {},
          "execution_count": 8
        }
      ]
    },
    {
      "cell_type": "code",
      "source": [
        "y = df['Churn?']\n",
        "y.size"
      ],
      "metadata": {
        "colab": {
          "base_uri": "https://localhost:8080/"
        },
        "id": "ih1FtaR5pcC8",
        "outputId": "01520d31-47bc-4622-a92d-f833e8f68fa9"
      },
      "execution_count": 8,
      "outputs": [
        {
          "output_type": "execute_result",
          "data": {
            "text/plain": [
              "3333"
            ]
          },
          "metadata": {},
          "execution_count": 8
        }
      ]
    },
    {
      "cell_type": "markdown",
      "source": [
        "### Boolean objectlarini 1 va 0 qiymatlari bilan alamshtirib olamiz\n",
        "\n",
        "### Labeling qilishda oson bo'ladi\n",
        "\n",
        "\n",
        "\n",
        "\n"
      ],
      "metadata": {
        "id": "2etDM4jk-GjG"
      }
    },
    {
      "cell_type": "code",
      "source": [
        "y = y.replace({False: 0, True: 1})"
      ],
      "metadata": {
        "id": "Lc7SoI-SpcGB"
      },
      "execution_count": 9,
      "outputs": []
    },
    {
      "cell_type": "code",
      "source": [
        "y.head()"
      ],
      "metadata": {
        "colab": {
          "base_uri": "https://localhost:8080/"
        },
        "id": "cY_VSxdrpcK9",
        "outputId": "6f98a0d7-123e-4106-9c5f-c359373b2726"
      },
      "execution_count": 10,
      "outputs": [
        {
          "output_type": "execute_result",
          "data": {
            "text/plain": [
              "0    0\n",
              "1    0\n",
              "2    0\n",
              "3    0\n",
              "4    0\n",
              "Name: Churn?, dtype: int64"
            ]
          },
          "metadata": {},
          "execution_count": 10
        }
      ]
    },
    {
      "cell_type": "markdown",
      "source": [
        "### Bu yerda biz **Neaural Network** uchun kiruvchi **feature** larni ko'rsatamiz yani \"Churn?\" ustunidan tashqari barcha ustunlar\n",
        "\n",
        "---\n",
        "\n",
        "\n",
        "Undan tashqari Label uchun Churn ustunini alohida \n",
        "variable saqlaymiz va Standard scaler funksiyasini ishlatamiz"
      ],
      "metadata": {
        "id": "L-CQTjNo-glF"
      }
    },
    {
      "cell_type": "code",
      "source": [
        "# dropping churn value\n",
        "X = df.drop(\"Churn?\", axis=1) # Feature\n",
        "\n",
        "y = df[\"Churn?\"]\n",
        "\n",
        "\n",
        "X = StandardScaler().fit_transform(X)"
      ],
      "metadata": {
        "id": "TJEKJGSJpcNj"
      },
      "execution_count": 11,
      "outputs": []
    },
    {
      "cell_type": "code",
      "source": [
        "X"
      ],
      "metadata": {
        "colab": {
          "base_uri": "https://localhost:8080/"
        },
        "id": "IV1oTa5ZpcQg",
        "outputId": "c155d0c3-3281-45ea-91d8-cc522946bfc6"
      },
      "execution_count": 12,
      "outputs": [
        {
          "output_type": "execute_result",
          "data": {
            "text/plain": [
              "array([[-6.78649297e-01,  6.81972473e-01, -8.45700361e-04, ...,\n",
              "        -6.01195090e-01, -8.56904953e-02, -4.27932021e-01],\n",
              "       [ 6.03169601e-01,  1.51449218e-01, -8.45700361e-04, ...,\n",
              "        -6.01195090e-01,  1.24116860e+00, -4.27932021e-01],\n",
              "       [ 3.33312991e-01,  9.09339582e-01, -8.45700361e-04, ...,\n",
              "         2.11533863e-01,  6.97156372e-01, -1.18821850e+00],\n",
              "       ...,\n",
              "       [ 8.73026212e-01, -1.84432874e+00,  1.40851395e+00, ...,\n",
              "         6.17898340e-01,  1.38712310e+00,  3.32354453e-01],\n",
              "       [-1.35329082e+00,  2.09670115e+00,  1.40851395e+00, ...,\n",
              "         2.24335625e+00, -1.87695028e+00,  3.32354453e-01],\n",
              "       [ 1.07541867e+00, -6.82230182e-01, -8.45700361e-04, ...,\n",
              "        -1.94830613e-01,  1.24116860e+00, -1.18821850e+00]])"
            ]
          },
          "metadata": {},
          "execution_count": 12
        }
      ]
    },
    {
      "cell_type": "code",
      "source": [
        "X.shape"
      ],
      "metadata": {
        "colab": {
          "base_uri": "https://localhost:8080/"
        },
        "id": "XqONL8G1pcSn",
        "outputId": "9c692c27-f340-42f4-8872-8d34a2eb04d7"
      },
      "execution_count": 13,
      "outputs": [
        {
          "output_type": "execute_result",
          "data": {
            "text/plain": [
              "(3333, 20)"
            ]
          },
          "metadata": {},
          "execution_count": 13
        }
      ]
    },
    {
      "cell_type": "markdown",
      "source": [
        "Train va Test uchun malumotlarni 2 ga ajratib olamiz\n",
        "\n",
        "\n",
        "\n",
        "*   80% training uchun\n",
        "*   20% test qilish uchun\n",
        "\n",
        "\n",
        "*   Doim bir xil data pointlarni olish uchun random state ni ishlatamiz\n",
        "\n",
        "\n",
        "\n"
      ],
      "metadata": {
        "id": "15EXLH_k-89N"
      }
    },
    {
      "cell_type": "code",
      "source": [
        "x_train, x_test, y_train, y_test = train_test_split(X, y, test_size=0.2, random_state=42)"
      ],
      "metadata": {
        "id": "7-YvLcScsB-Y"
      },
      "execution_count": 14,
      "outputs": []
    },
    {
      "cell_type": "code",
      "source": [
        "x_train.shape"
      ],
      "metadata": {
        "colab": {
          "base_uri": "https://localhost:8080/"
        },
        "id": "Csz-ZLwVsCBE",
        "outputId": "487b3f10-9e1c-4ce5-ada0-3f98b6248106"
      },
      "execution_count": 15,
      "outputs": [
        {
          "output_type": "execute_result",
          "data": {
            "text/plain": [
              "(2666, 20)"
            ]
          },
          "metadata": {},
          "execution_count": 15
        }
      ]
    },
    {
      "cell_type": "code",
      "source": [
        "x_test.shape"
      ],
      "metadata": {
        "colab": {
          "base_uri": "https://localhost:8080/"
        },
        "id": "ytbQKsj6sCDm",
        "outputId": "7369792e-a853-41bf-c4f1-7890730e7b97"
      },
      "execution_count": 16,
      "outputs": [
        {
          "output_type": "execute_result",
          "data": {
            "text/plain": [
              "(667, 20)"
            ]
          },
          "metadata": {},
          "execution_count": 16
        }
      ]
    },
    {
      "cell_type": "markdown",
      "source": [
        "### Endi modelimizni train qilamiz\n",
        "Bu model 100 ta epoch va ADAM optimizeri bilan 96% aniqlikka erishdi\n",
        "\n",
        "\n"
      ],
      "metadata": {
        "id": "pGK20eAL_hQU"
      }
    },
    {
      "cell_type": "code",
      "source": [
        "import tensorflow as tf\n",
        "from tensorflow import keras\n",
        "\n",
        "\n",
        "model = keras.Sequential([\n",
        "    keras.layers.Dense(20, input_shape=(20,), activation='relu'),\n",
        "    keras.layers.Dense(15, activation='relu'),\n",
        "    keras.layers.Dense(1, activation='sigmoid')\n",
        "])\n",
        "\n",
        "\n",
        "\n",
        "model.compile(optimizer='ADAM',\n",
        "              loss='binary_crossentropy',\n",
        "              metrics=['accuracy'])\n",
        "\n",
        "H = model.fit(x_train, y_train, epochs=100)\n",
        "model.save(\"NN_model.hdf5\")"
      ],
      "metadata": {
        "colab": {
          "base_uri": "https://localhost:8080/"
        },
        "id": "kxYMNyzrsCGc",
        "outputId": "18bd9f8e-8e6f-4119-bd71-12d070bf53ca"
      },
      "execution_count": 18,
      "outputs": [
        {
          "output_type": "stream",
          "name": "stdout",
          "text": [
            "Epoch 1/100\n",
            "84/84 [==============================] - 1s 2ms/step - loss: 0.5416 - accuracy: 0.7952\n",
            "Epoch 2/100\n",
            "84/84 [==============================] - 0s 2ms/step - loss: 0.4040 - accuracy: 0.8616\n",
            "Epoch 3/100\n",
            "84/84 [==============================] - 0s 2ms/step - loss: 0.3463 - accuracy: 0.8657\n",
            "Epoch 4/100\n",
            "84/84 [==============================] - 0s 2ms/step - loss: 0.3145 - accuracy: 0.8766\n",
            "Epoch 5/100\n",
            "84/84 [==============================] - 0s 2ms/step - loss: 0.2910 - accuracy: 0.8860\n",
            "Epoch 6/100\n",
            "84/84 [==============================] - 0s 2ms/step - loss: 0.2725 - accuracy: 0.8931\n",
            "Epoch 7/100\n",
            "84/84 [==============================] - 0s 2ms/step - loss: 0.2574 - accuracy: 0.9029\n",
            "Epoch 8/100\n",
            "84/84 [==============================] - 0s 2ms/step - loss: 0.2455 - accuracy: 0.9122\n",
            "Epoch 9/100\n",
            "84/84 [==============================] - 0s 1ms/step - loss: 0.2374 - accuracy: 0.9167\n",
            "Epoch 10/100\n",
            "84/84 [==============================] - 0s 1ms/step - loss: 0.2310 - accuracy: 0.9190\n",
            "Epoch 11/100\n",
            "84/84 [==============================] - 0s 2ms/step - loss: 0.2263 - accuracy: 0.9227\n",
            "Epoch 12/100\n",
            "84/84 [==============================] - 0s 2ms/step - loss: 0.2216 - accuracy: 0.9265\n",
            "Epoch 13/100\n",
            "84/84 [==============================] - 0s 2ms/step - loss: 0.2191 - accuracy: 0.9246\n",
            "Epoch 14/100\n",
            "84/84 [==============================] - 0s 2ms/step - loss: 0.2159 - accuracy: 0.9254\n",
            "Epoch 15/100\n",
            "84/84 [==============================] - 0s 2ms/step - loss: 0.2130 - accuracy: 0.9269\n",
            "Epoch 16/100\n",
            "84/84 [==============================] - 0s 2ms/step - loss: 0.2095 - accuracy: 0.9291\n",
            "Epoch 17/100\n",
            "84/84 [==============================] - 0s 1ms/step - loss: 0.2073 - accuracy: 0.9306\n",
            "Epoch 18/100\n",
            "84/84 [==============================] - 0s 2ms/step - loss: 0.2057 - accuracy: 0.9317\n",
            "Epoch 19/100\n",
            "84/84 [==============================] - 0s 2ms/step - loss: 0.2030 - accuracy: 0.9306\n",
            "Epoch 20/100\n",
            "84/84 [==============================] - 0s 2ms/step - loss: 0.2011 - accuracy: 0.9362\n",
            "Epoch 21/100\n",
            "84/84 [==============================] - 0s 1ms/step - loss: 0.1983 - accuracy: 0.9359\n",
            "Epoch 22/100\n",
            "84/84 [==============================] - 0s 2ms/step - loss: 0.1967 - accuracy: 0.9374\n",
            "Epoch 23/100\n",
            "84/84 [==============================] - 0s 2ms/step - loss: 0.1945 - accuracy: 0.9381\n",
            "Epoch 24/100\n",
            "84/84 [==============================] - 0s 2ms/step - loss: 0.1923 - accuracy: 0.9415\n",
            "Epoch 25/100\n",
            "84/84 [==============================] - 0s 2ms/step - loss: 0.1910 - accuracy: 0.9389\n",
            "Epoch 26/100\n",
            "84/84 [==============================] - 0s 2ms/step - loss: 0.1887 - accuracy: 0.9404\n",
            "Epoch 27/100\n",
            "84/84 [==============================] - 0s 2ms/step - loss: 0.1872 - accuracy: 0.9400\n",
            "Epoch 28/100\n",
            "84/84 [==============================] - 0s 2ms/step - loss: 0.1863 - accuracy: 0.9400\n",
            "Epoch 29/100\n",
            "84/84 [==============================] - 0s 2ms/step - loss: 0.1838 - accuracy: 0.9415\n",
            "Epoch 30/100\n",
            "84/84 [==============================] - 0s 2ms/step - loss: 0.1828 - accuracy: 0.9434\n",
            "Epoch 31/100\n",
            "84/84 [==============================] - 0s 2ms/step - loss: 0.1802 - accuracy: 0.9419\n",
            "Epoch 32/100\n",
            "84/84 [==============================] - 0s 2ms/step - loss: 0.1794 - accuracy: 0.9452\n",
            "Epoch 33/100\n",
            "84/84 [==============================] - 0s 2ms/step - loss: 0.1785 - accuracy: 0.9434\n",
            "Epoch 34/100\n",
            "84/84 [==============================] - 0s 2ms/step - loss: 0.1753 - accuracy: 0.9441\n",
            "Epoch 35/100\n",
            "84/84 [==============================] - 0s 2ms/step - loss: 0.1744 - accuracy: 0.9452\n",
            "Epoch 36/100\n",
            "84/84 [==============================] - 0s 2ms/step - loss: 0.1724 - accuracy: 0.9482\n",
            "Epoch 37/100\n",
            "84/84 [==============================] - 0s 2ms/step - loss: 0.1718 - accuracy: 0.9445\n",
            "Epoch 38/100\n",
            "84/84 [==============================] - 0s 2ms/step - loss: 0.1699 - accuracy: 0.9456\n",
            "Epoch 39/100\n",
            "84/84 [==============================] - 0s 2ms/step - loss: 0.1683 - accuracy: 0.9452\n",
            "Epoch 40/100\n",
            "84/84 [==============================] - 0s 2ms/step - loss: 0.1669 - accuracy: 0.9471\n",
            "Epoch 41/100\n",
            "84/84 [==============================] - 0s 2ms/step - loss: 0.1668 - accuracy: 0.9456\n",
            "Epoch 42/100\n",
            "84/84 [==============================] - 0s 2ms/step - loss: 0.1644 - accuracy: 0.9486\n",
            "Epoch 43/100\n",
            "84/84 [==============================] - 0s 2ms/step - loss: 0.1621 - accuracy: 0.9501\n",
            "Epoch 44/100\n",
            "84/84 [==============================] - 0s 2ms/step - loss: 0.1615 - accuracy: 0.9509\n",
            "Epoch 45/100\n",
            "84/84 [==============================] - 0s 2ms/step - loss: 0.1594 - accuracy: 0.9505\n",
            "Epoch 46/100\n",
            "84/84 [==============================] - 0s 2ms/step - loss: 0.1583 - accuracy: 0.9520\n",
            "Epoch 47/100\n",
            "84/84 [==============================] - 0s 2ms/step - loss: 0.1572 - accuracy: 0.9524\n",
            "Epoch 48/100\n",
            "84/84 [==============================] - 0s 2ms/step - loss: 0.1559 - accuracy: 0.9509\n",
            "Epoch 49/100\n",
            "84/84 [==============================] - 0s 1ms/step - loss: 0.1551 - accuracy: 0.9520\n",
            "Epoch 50/100\n",
            "84/84 [==============================] - 0s 2ms/step - loss: 0.1529 - accuracy: 0.9550\n",
            "Epoch 51/100\n",
            "84/84 [==============================] - 0s 2ms/step - loss: 0.1539 - accuracy: 0.9509\n",
            "Epoch 52/100\n",
            "84/84 [==============================] - 0s 2ms/step - loss: 0.1521 - accuracy: 0.9546\n",
            "Epoch 53/100\n",
            "84/84 [==============================] - 0s 2ms/step - loss: 0.1502 - accuracy: 0.9535\n",
            "Epoch 54/100\n",
            "84/84 [==============================] - 0s 2ms/step - loss: 0.1499 - accuracy: 0.9554\n",
            "Epoch 55/100\n",
            "84/84 [==============================] - 0s 2ms/step - loss: 0.1488 - accuracy: 0.9531\n",
            "Epoch 56/100\n",
            "84/84 [==============================] - 0s 2ms/step - loss: 0.1482 - accuracy: 0.9535\n",
            "Epoch 57/100\n",
            "84/84 [==============================] - 0s 2ms/step - loss: 0.1460 - accuracy: 0.9550\n",
            "Epoch 58/100\n",
            "84/84 [==============================] - 0s 2ms/step - loss: 0.1462 - accuracy: 0.9554\n",
            "Epoch 59/100\n",
            "84/84 [==============================] - 0s 2ms/step - loss: 0.1452 - accuracy: 0.9542\n",
            "Epoch 60/100\n",
            "84/84 [==============================] - 0s 2ms/step - loss: 0.1446 - accuracy: 0.9546\n",
            "Epoch 61/100\n",
            "84/84 [==============================] - 0s 2ms/step - loss: 0.1434 - accuracy: 0.9554\n",
            "Epoch 62/100\n",
            "84/84 [==============================] - 0s 2ms/step - loss: 0.1425 - accuracy: 0.9550\n",
            "Epoch 63/100\n",
            "84/84 [==============================] - 0s 2ms/step - loss: 0.1405 - accuracy: 0.9576\n",
            "Epoch 64/100\n",
            "84/84 [==============================] - 0s 2ms/step - loss: 0.1396 - accuracy: 0.9591\n",
            "Epoch 65/100\n",
            "84/84 [==============================] - 0s 2ms/step - loss: 0.1387 - accuracy: 0.9569\n",
            "Epoch 66/100\n",
            "84/84 [==============================] - 0s 2ms/step - loss: 0.1382 - accuracy: 0.9599\n",
            "Epoch 67/100\n",
            "84/84 [==============================] - 0s 2ms/step - loss: 0.1371 - accuracy: 0.9591\n",
            "Epoch 68/100\n",
            "84/84 [==============================] - 0s 2ms/step - loss: 0.1367 - accuracy: 0.9576\n",
            "Epoch 69/100\n",
            "84/84 [==============================] - 0s 1ms/step - loss: 0.1357 - accuracy: 0.9565\n",
            "Epoch 70/100\n",
            "84/84 [==============================] - 0s 2ms/step - loss: 0.1347 - accuracy: 0.9599\n",
            "Epoch 71/100\n",
            "84/84 [==============================] - 0s 2ms/step - loss: 0.1343 - accuracy: 0.9595\n",
            "Epoch 72/100\n",
            "84/84 [==============================] - 0s 2ms/step - loss: 0.1334 - accuracy: 0.9610\n",
            "Epoch 73/100\n",
            "84/84 [==============================] - 0s 2ms/step - loss: 0.1327 - accuracy: 0.9602\n",
            "Epoch 74/100\n",
            "84/84 [==============================] - 0s 2ms/step - loss: 0.1310 - accuracy: 0.9602\n",
            "Epoch 75/100\n",
            "84/84 [==============================] - 0s 2ms/step - loss: 0.1305 - accuracy: 0.9621\n",
            "Epoch 76/100\n",
            "84/84 [==============================] - 0s 2ms/step - loss: 0.1309 - accuracy: 0.9621\n",
            "Epoch 77/100\n",
            "84/84 [==============================] - 0s 2ms/step - loss: 0.1294 - accuracy: 0.9621\n",
            "Epoch 78/100\n",
            "84/84 [==============================] - 0s 2ms/step - loss: 0.1282 - accuracy: 0.9629\n",
            "Epoch 79/100\n",
            "84/84 [==============================] - 0s 2ms/step - loss: 0.1269 - accuracy: 0.9625\n",
            "Epoch 80/100\n",
            "84/84 [==============================] - 0s 2ms/step - loss: 0.1271 - accuracy: 0.9610\n",
            "Epoch 81/100\n",
            "84/84 [==============================] - 0s 2ms/step - loss: 0.1245 - accuracy: 0.9629\n",
            "Epoch 82/100\n",
            "84/84 [==============================] - 0s 2ms/step - loss: 0.1254 - accuracy: 0.9614\n",
            "Epoch 83/100\n",
            "84/84 [==============================] - 0s 2ms/step - loss: 0.1239 - accuracy: 0.9629\n",
            "Epoch 84/100\n",
            "84/84 [==============================] - 0s 2ms/step - loss: 0.1232 - accuracy: 0.9621\n",
            "Epoch 85/100\n",
            "84/84 [==============================] - 0s 2ms/step - loss: 0.1217 - accuracy: 0.9651\n",
            "Epoch 86/100\n",
            "84/84 [==============================] - 0s 2ms/step - loss: 0.1221 - accuracy: 0.9617\n",
            "Epoch 87/100\n",
            "84/84 [==============================] - 0s 2ms/step - loss: 0.1206 - accuracy: 0.9632\n",
            "Epoch 88/100\n",
            "84/84 [==============================] - 0s 2ms/step - loss: 0.1190 - accuracy: 0.9636\n",
            "Epoch 89/100\n",
            "84/84 [==============================] - 0s 2ms/step - loss: 0.1187 - accuracy: 0.9644\n",
            "Epoch 90/100\n",
            "84/84 [==============================] - 0s 2ms/step - loss: 0.1176 - accuracy: 0.9659\n",
            "Epoch 91/100\n",
            "84/84 [==============================] - 0s 2ms/step - loss: 0.1160 - accuracy: 0.9674\n",
            "Epoch 92/100\n",
            "84/84 [==============================] - 0s 2ms/step - loss: 0.1169 - accuracy: 0.9647\n",
            "Epoch 93/100\n",
            "84/84 [==============================] - 0s 2ms/step - loss: 0.1157 - accuracy: 0.9662\n",
            "Epoch 94/100\n",
            "84/84 [==============================] - 0s 2ms/step - loss: 0.1152 - accuracy: 0.9651\n",
            "Epoch 95/100\n",
            "84/84 [==============================] - 0s 2ms/step - loss: 0.1140 - accuracy: 0.9659\n",
            "Epoch 96/100\n",
            "84/84 [==============================] - 0s 2ms/step - loss: 0.1128 - accuracy: 0.9659\n",
            "Epoch 97/100\n",
            "84/84 [==============================] - 0s 2ms/step - loss: 0.1122 - accuracy: 0.9647\n",
            "Epoch 98/100\n",
            "84/84 [==============================] - 0s 2ms/step - loss: 0.1114 - accuracy: 0.9655\n",
            "Epoch 99/100\n",
            "84/84 [==============================] - 0s 2ms/step - loss: 0.1106 - accuracy: 0.9655\n",
            "Epoch 100/100\n",
            "84/84 [==============================] - 0s 2ms/step - loss: 0.1093 - accuracy: 0.9662\n"
          ]
        }
      ]
    },
    {
      "cell_type": "markdown",
      "source": [
        "### Predict qilib ko'ramiz"
      ],
      "metadata": {
        "id": "KpXpIfEu_3DN"
      }
    },
    {
      "cell_type": "code",
      "source": [
        "pred = model.predict(x_test)\n",
        "pred[:5]"
      ],
      "metadata": {
        "colab": {
          "base_uri": "https://localhost:8080/"
        },
        "id": "59Q6X7UbsCL-",
        "outputId": "3fb57a18-b164-4208-96ef-fa3d071b95d5"
      },
      "execution_count": 19,
      "outputs": [
        {
          "output_type": "execute_result",
          "data": {
            "text/plain": [
              "array([[0.00205866],\n",
              "       [0.02434787],\n",
              "       [0.99293864],\n",
              "       [0.00327799],\n",
              "       [0.00347018]], dtype=float32)"
            ]
          },
          "metadata": {},
          "execution_count": 19
        }
      ]
    },
    {
      "cell_type": "markdown",
      "source": [
        "### prediction variable ga **50%** dan katta bo'lgan predictlar uchun True yani 1, va qolganlariga esa False yani 0 qiymatlarini beramiz"
      ],
      "metadata": {
        "id": "oV5vPAp8uN-7"
      }
    },
    {
      "cell_type": "code",
      "source": [
        "predictions = []\n",
        "for p in pred:\n",
        "    if p > 0.5:\n",
        "        predictions.append(1)\n",
        "    else:\n",
        "        predictions.append(0)"
      ],
      "metadata": {
        "id": "Ms-iNzYpzJuK"
      },
      "execution_count": 20,
      "outputs": []
    },
    {
      "cell_type": "code",
      "source": [
        "predictions[:5]"
      ],
      "metadata": {
        "colab": {
          "base_uri": "https://localhost:8080/"
        },
        "id": "dLshvEHtz7gb",
        "outputId": "67981cdc-8399-4ee7-f169-92776db3c6cc"
      },
      "execution_count": 21,
      "outputs": [
        {
          "output_type": "execute_result",
          "data": {
            "text/plain": [
              "[0, 0, 1, 0, 0]"
            ]
          },
          "metadata": {},
          "execution_count": 21
        }
      ]
    },
    {
      "cell_type": "code",
      "source": [
        "y_test[:5]"
      ],
      "metadata": {
        "colab": {
          "base_uri": "https://localhost:8080/"
        },
        "id": "LARREzlez7jz",
        "outputId": "f0726f80-7ce9-4937-801e-94e4b7c8b502"
      },
      "execution_count": 22,
      "outputs": [
        {
          "output_type": "execute_result",
          "data": {
            "text/plain": [
              "438     0\n",
              "2674    0\n",
              "1345    1\n",
              "1957    0\n",
              "2148    0\n",
              "Name: Churn?, dtype: int64"
            ]
          },
          "metadata": {},
          "execution_count": 22
        }
      ]
    },
    {
      "cell_type": "markdown",
      "source": [
        ""
      ],
      "metadata": {
        "id": "gjbjT39vu0vP"
      }
    },
    {
      "cell_type": "code",
      "source": [
        "print(classification_report(y_test, predictions))"
      ],
      "metadata": {
        "colab": {
          "base_uri": "https://localhost:8080/"
        },
        "id": "u_JLEZxQ0KZ_",
        "outputId": "e242ea75-514d-4aa1-bfea-3b403b2a11a9"
      },
      "execution_count": 23,
      "outputs": [
        {
          "output_type": "stream",
          "name": "stdout",
          "text": [
            "              precision    recall  f1-score   support\n",
            "\n",
            "           0       0.94      0.97      0.96       566\n",
            "           1       0.80      0.67      0.73       101\n",
            "\n",
            "    accuracy                           0.93       667\n",
            "   macro avg       0.87      0.82      0.84       667\n",
            "weighted avg       0.92      0.93      0.92       667\n",
            "\n"
          ]
        }
      ]
    },
    {
      "cell_type": "code",
      "source": [
        "plt.style.use(\"ggplot\")\n",
        "plt.figure()\n",
        "plt.plot(np.arange(0, 100), H.history[\"loss\"], label=\"train_loss\")\n",
        "plt.plot(np.arange(0, 100), H.history[\"accuracy\"], label=\"train_acc\")\n",
        "\n",
        "plt.title(\"Aniqlik va yo'qotish jadvali\")\n",
        "plt.xlabel(\"Epoch #\")\n",
        "plt.ylabel(\"Loss/Accuracy\")\n",
        "plt.legend()\n",
        "plt.savefig(\"jadval.png\")\n",
        "plt.show()\n"
      ],
      "metadata": {
        "colab": {
          "base_uri": "https://localhost:8080/",
          "height": 299
        },
        "id": "osZS1E6M2wOw",
        "outputId": "cdf56c8d-dcb6-415f-8ccd-731ff4ac9662"
      },
      "execution_count": 27,
      "outputs": [
        {
          "output_type": "display_data",
          "data": {
            "image/png": "[encoded data removed]",
            "text/plain": [
              "<Figure size 432x288 with 1 Axes>"
            ]
          },
          "metadata": {}
        }
      ]
    }
  ]
}